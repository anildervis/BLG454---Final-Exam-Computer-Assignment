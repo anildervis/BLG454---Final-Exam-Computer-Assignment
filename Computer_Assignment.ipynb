{
 "cells": [
  {
   "cell_type": "code",
   "execution_count": 1,
   "metadata": {},
   "outputs": [],
   "source": [
    "import numpy as np\n",
    "import matplotlib.pyplot as plt\n",
    "from sklearn.model_selection import train_test_split"
   ]
  },
  {
   "cell_type": "code",
   "execution_count": 2,
   "metadata": {},
   "outputs": [],
   "source": [
    "# To randomize\n",
    "np.random.seed(42)\n",
    "\n",
    "# Creating the first dataset that is linearly seperable with 2 classes\n",
    "# Classes have the means [2, 2] and [6, 6] with covariance matrix [[0.5, 0], [0, 0.5]]\n",
    "mean_class_0_D1 = [2, 2]\n",
    "cov_class_0_D1 = [[1, 0], [0, 1]]\n",
    "class_0_D1 = np.random.multivariate_normal(mean_class_0_D1, cov_class_0_D1, 100)\n",
    "\n",
    "mean_class_1_D1 = [6, 6]\n",
    "cov_class_1_D1 = [[1, 0], [0, 1]]\n",
    "class_1_D1 = np.random.multivariate_normal(mean_class_1_D1, cov_class_1_D1, 100)"
   ]
  },
  {
   "cell_type": "code",
   "execution_count": 3,
   "metadata": {},
   "outputs": [],
   "source": [
    "# Creating the second dataset that is not linearly seperable again with 2 classes\n",
    "# Classes have the means [3, 3] and [4, 4] with covariance matrix [[1.5, 0], [0, 1.5]]\n",
    "mean_class_0_D2 = [3, 3]\n",
    "cov_class_0_D2 = [[1, 0], [0, 1]]\n",
    "class_0_D2 = np.random.multivariate_normal(mean_class_0_D2, cov_class_0_D2, 100)\n",
    "\n",
    "mean_class_1_D2 = [4, 4]\n",
    "cov_class_1_D2 = [[1, 0], [0, 1]]\n",
    "class_1_D2 = np.random.multivariate_normal(mean_class_1_D2, cov_class_1_D2, 100)"
   ]
  },
  {
   "cell_type": "code",
   "execution_count": 4,
   "metadata": {},
   "outputs": [],
   "source": [
    "# Adding ones and zeros to different classes to be able to use them in further calculations\n",
    "# Here, D1 and D2 are the datasets that are created above\n",
    "class_0_D1 = np.hstack((class_0_D1, np.zeros((100, 1))))\n",
    "class_1_D1 = np.hstack((class_1_D1, np.ones((100, 1))))\n",
    "D1 = np.vstack((class_0_D1, class_1_D1))\n",
    "\n",
    "class_0_D2 = np.hstack((class_0_D2, np.zeros((100, 1))))\n",
    "class_1_D2 = np.hstack((class_1_D2, np.ones((100, 1))))\n",
    "D2 = np.vstack((class_0_D2, class_1_D2))"
   ]
  },
  {
   "cell_type": "code",
   "execution_count": 5,
   "metadata": {},
   "outputs": [],
   "source": [
    "# Below, I used a trick to split the dataset into train and test sets using stratify parameter\n",
    "# This parameter is used to keep the ratio of classes in the train and test sets\n",
    "# I used 0.1 as the test size, so 10% of the data will be used for testing\n",
    "# This means 10 vectors from each class will be used for testing as requested\n",
    "train_D1, test_D1 = train_test_split(D1, test_size=0.1, stratify=D1[:, 2])\n",
    "train_D2, test_D2 = train_test_split(D2, test_size=0.1, stratify=D2[:, 2])\n",
    "\n",
    "# Here I split the train and test sets into X and y where X is the features and y is the class labels\n",
    "X_train_D1, y_train_D1 = train_D1[:, :2], train_D1[:, 2]\n",
    "X_test_D1, y_test_D1 = test_D1[:, :2], test_D1[:, 2]\n",
    "\n",
    "X_train_D2, y_train_D2 = train_D2[:, :2], train_D2[:, 2]\n",
    "X_test_D2, y_test_D2 = test_D2[:, :2], test_D2[:, 2]"
   ]
  },
  {
   "cell_type": "code",
   "execution_count": 6,
   "metadata": {},
   "outputs": [
    {
     "name": "stdout",
     "output_type": "stream",
     "text": [
      "(180, 2) (180,)\n",
      "(20, 2) (20,)\n",
      "(180, 2) (180,)\n",
      "(20, 2) (20,)\n"
     ]
    }
   ],
   "source": [
    "print(X_train_D1.shape, y_train_D1.shape)\n",
    "print(X_test_D1.shape, y_test_D1.shape)\n",
    "\n",
    "print(X_train_D2.shape, y_train_D2.shape)\n",
    "print(X_test_D2.shape, y_test_D2.shape)"
   ]
  }
 ],
 "metadata": {
  "kernelspec": {
   "display_name": "appliedaiw1",
   "language": "python",
   "name": "python3"
  },
  "language_info": {
   "codemirror_mode": {
    "name": "ipython",
    "version": 3
   },
   "file_extension": ".py",
   "mimetype": "text/x-python",
   "name": "python",
   "nbconvert_exporter": "python",
   "pygments_lexer": "ipython3",
   "version": "3.8.19"
  }
 },
 "nbformat": 4,
 "nbformat_minor": 2
}
