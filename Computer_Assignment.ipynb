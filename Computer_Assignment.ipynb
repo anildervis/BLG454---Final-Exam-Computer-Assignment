{
 "cells": [
  {
   "cell_type": "code",
   "execution_count": 1,
   "metadata": {},
   "outputs": [],
   "source": [
    "import numpy as np\n",
    "import matplotlib.pyplot as plt\n",
    "from sklearn.model_selection import train_test_split"
   ]
  },
  {
   "cell_type": "code",
   "execution_count": 2,
   "metadata": {},
   "outputs": [],
   "source": [
    "# To randomize\n",
    "np.random.seed(42)\n",
    "\n",
    "# Creating the first dataset that is linearly seperable with 2 classes\n",
    "# Classes have the means [2, 2] and [6, 6] with covariance matrix [[0.5, 0], [0, 0.5]]\n",
    "mean_class_0_D1 = [2, 2]\n",
    "cov_class_0_D1 = [[0.5, 0], [0, 0.5]]\n",
    "class_0_D1 = np.random.multivariate_normal(mean_class_0_D1, cov_class_0_D1, 100)\n",
    "\n",
    "mean_class_1_D1 = [6, 6]\n",
    "cov_class_1_D1 = [[0.5, 0], [0, 0.5]]\n",
    "class_1_D1 = np.random.multivariate_normal(mean_class_1_D1, cov_class_1_D1, 100)"
   ]
  },
  {
   "cell_type": "code",
   "execution_count": 3,
   "metadata": {},
   "outputs": [],
   "source": [
    "# Creating the second dataset that is not linearly seperable again with 2 classes\n",
    "# Classes have the means [3, 3] and [4, 4] with covariance matrix [[1.5, 0], [0, 1.5]]\n",
    "mean_class_0_D2 = [3, 3]\n",
    "cov_class_0_D2 = [[1.5, 0], [0, 1.5]]\n",
    "class_0_D2 = np.random.multivariate_normal(mean_class_0_D2, cov_class_0_D2, 100)\n",
    "\n",
    "mean_class_1_D2 = [4, 4]\n",
    "cov_class_1_D2 = [[1, 0], [0, 1]]\n",
    "class_1_D2 = np.random.multivariate_normal(mean_class_1_D2, cov_class_1_D2, 100)"
   ]
  },
  {
   "cell_type": "code",
   "execution_count": 4,
   "metadata": {},
   "outputs": [],
   "source": [
    "# Adding ones and zeros to different classes to be able to use them in further calculations\n",
    "# Here, D1 and D2 are the datasets that are created above\n",
    "class_0_D1 = np.hstack((class_0_D1, np.zeros((100, 1))))\n",
    "class_1_D1 = np.hstack((class_1_D1, np.ones((100, 1))))\n",
    "D1 = np.vstack((class_0_D1, class_1_D1))\n",
    "\n",
    "class_0_D2 = np.hstack((class_0_D2, np.zeros((100, 1))))\n",
    "class_1_D2 = np.hstack((class_1_D2, np.ones((100, 1))))\n",
    "D2 = np.vstack((class_0_D2, class_1_D2))"
   ]
  },
  {
   "cell_type": "code",
   "execution_count": 5,
   "metadata": {},
   "outputs": [
    {
     "name": "stdout",
     "output_type": "stream",
     "text": [
      "(200, 3)\n",
      "(200, 3)\n"
     ]
    }
   ],
   "source": [
    "print(D1.shape)\n",
    "print(D2.shape)"
   ]
  }
 ],
 "metadata": {
  "kernelspec": {
   "display_name": "appliedaiw1",
   "language": "python",
   "name": "python3"
  },
  "language_info": {
   "codemirror_mode": {
    "name": "ipython",
    "version": 3
   },
   "file_extension": ".py",
   "mimetype": "text/x-python",
   "name": "python",
   "nbconvert_exporter": "python",
   "pygments_lexer": "ipython3",
   "version": "3.8.19"
  }
 },
 "nbformat": 4,
 "nbformat_minor": 2
}
