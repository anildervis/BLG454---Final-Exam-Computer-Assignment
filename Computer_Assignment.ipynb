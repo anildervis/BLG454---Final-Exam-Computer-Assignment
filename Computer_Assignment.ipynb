{
 "cells": [
  {
   "cell_type": "code",
   "execution_count": 1,
   "metadata": {},
   "outputs": [],
   "source": [
    "import numpy as np\n",
    "import matplotlib.pyplot as plt\n",
    "from sklearn.model_selection import train_test_split"
   ]
  },
  {
   "cell_type": "code",
   "execution_count": 2,
   "metadata": {},
   "outputs": [],
   "source": [
    "# To randomize\n",
    "np.random.seed(42)\n",
    "\n",
    "# Creating the first dataset that is linearly seperable with 2 classes\n",
    "# Classes have the means [2, 2] and [6, 6] with covariance matrix [[0.5, 0], [0, 0.5]]\n",
    "mean_class_0_D1 = [2, 2]\n",
    "cov_class_0_D1 = [[0.5, 0], [0, 0.5]]\n",
    "class_0_D1 = np.random.multivariate_normal(mean_class_0_D1, cov_class_0_D1, 100)\n",
    "\n",
    "mean_class_1_D1 = [6, 6]\n",
    "cov_class_1_D1 = [[0.5, 0], [0, 0.5]]\n",
    "class_1_D1 = np.random.multivariate_normal(mean_class_1_D1, cov_class_1_D1, 100)"
   ]
  },
  {
   "cell_type": "code",
   "execution_count": 3,
   "metadata": {},
   "outputs": [],
   "source": [
    "# Creating the second dataset that is not linearly seperable again with 2 classes\n",
    "# Classes have the means [3, 3] and [4, 4] with covariance matrix [[1.5, 0], [0, 1.5]]\n",
    "mean_class_0_D2 = [3, 3]\n",
    "cov_class_0_D2 = [[1.5, 0], [0, 1.5]]\n",
    "class_0_D2 = np.random.multivariate_normal(mean_class_0_D2, cov_class_0_D2, 100)\n",
    "\n",
    "mean_class_1_D2 = [4, 4]\n",
    "cov_class_1_D2 = [[1.5, 0], [0, 1.5]]\n",
    "class_1_D2 = np.random.multivariate_normal(mean_class_1_D2, cov_class_1_D2, 100)"
   ]
  },
  {
   "cell_type": "code",
   "execution_count": 5,
   "metadata": {},
   "outputs": [
    {
     "name": "stdout",
     "output_type": "stream",
     "text": [
      "Dataset 1\n",
      "Class 0\n",
      "(100, 2)\n",
      "Class 1\n",
      "(100, 2)\n",
      "Dataset 2\n",
      "Class 0\n",
      "(100, 2)\n",
      "Class 1\n",
      "(100, 2)\n"
     ]
    }
   ],
   "source": [
    "print(\"Dataset 1\")\n",
    "print(\"Class 0\")\n",
    "print(class_0_D1.shape)\n",
    "print(\"Class 1\")\n",
    "print(class_1_D1.shape)\n",
    "\n",
    "print(\"Dataset 2\")\n",
    "print(\"Class 0\")\n",
    "print(class_0_D2.shape)\n",
    "print(\"Class 1\")\n",
    "print(class_1_D2.shape)"
   ]
  }
 ],
 "metadata": {
  "kernelspec": {
   "display_name": "appliedaiw1",
   "language": "python",
   "name": "python3"
  },
  "language_info": {
   "codemirror_mode": {
    "name": "ipython",
    "version": 3
   },
   "file_extension": ".py",
   "mimetype": "text/x-python",
   "name": "python",
   "nbconvert_exporter": "python",
   "pygments_lexer": "ipython3",
   "version": "3.8.19"
  }
 },
 "nbformat": 4,
 "nbformat_minor": 2
}
